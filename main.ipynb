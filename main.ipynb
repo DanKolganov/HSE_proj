{
 "cells": [
  {
   "cell_type": "markdown",
   "metadata": {},
   "source": [
    "## НАШ ПРОЕКТИК"
   ]
  },
  {
   "cell_type": "markdown",
   "metadata": {},
   "source": [
    "# 1. Сбор и подготовка данных через сервис Open Meteo\n"
   ]
  },
  {
   "cell_type": "code",
   "execution_count": 1,
   "metadata": {},
   "outputs": [
    {
     "name": "stdout",
     "output_type": "stream",
     "text": [
      "[⏱] Загружаем почасовые данные для: Moscow\n",
      "[📆] Загружаем ежедневные данные для: Moscow\n",
      "[⏱] Загружаем почасовые данные для: Saint_Petersburg\n",
      "[📆] Загружаем ежедневные данные для: Saint_Petersburg\n",
      "[⏱] Загружаем почасовые данные для: Nizhny_Novgorod\n",
      "[📆] Загружаем ежедневные данные для: Nizhny_Novgorod\n",
      "[⏱] Загружаем почасовые данные для: Kazan\n",
      "[📆] Загружаем ежедневные данные для: Kazan\n",
      "[⏱] Загружаем почасовые данные для: Ufa\n",
      "[📆] Загружаем ежедневные данные для: Ufa\n",
      "[⏱] Загружаем почасовые данные для: Novosibirsk\n",
      "[📆] Загружаем ежедневные данные для: Novosibirsk\n",
      "[⏱] Загружаем почасовые данные для: Vladivostok\n",
      "[📆] Загружаем ежедневные данные для: Vladivostok\n"
     ]
    }
   ],
   "source": [
    "import requests\n",
    "import pandas as pd\n",
    "from datetime import datetime\n",
    "\n",
    "# Геокоординаты для нужных городов\n",
    "city_coords = {\n",
    "    'Moscow': (55.7558, 37.6176),\n",
    "    'Saint_Petersburg': (59.9343, 30.3351),\n",
    "    'Nizhny_Novgorod': (56.2965, 43.9361),\n",
    "    'Kazan': (55.7963, 49.1088),\n",
    "    'Ufa': (54.7388, 55.9721),\n",
    "    'Novosibirsk': (55.0084, 82.9357),\n",
    "    'Vladivostok': (43.1198, 131.8869)\n",
    "}\n",
    "\n",
    "# Функция получения данных из Open-Meteo\n",
    "def get_weather_open_meteo(city: str, lat: float, lon: float,\n",
    "                           start_date='2023-01-01', end_date='2023-12-31',\n",
    "                           hourly=True) -> pd.DataFrame:\n",
    "    base_url = 'https://archive-api.open-meteo.com/v1/archive'\n",
    "    params = {\n",
    "        'latitude': lat,\n",
    "        'longitude': lon,\n",
    "        'start_date': start_date,\n",
    "        'end_date': end_date,\n",
    "        'timezone': 'auto'\n",
    "    }\n",
    "\n",
    "    if hourly:\n",
    "        params['hourly'] = 'temperature_2m'\n",
    "    else:\n",
    "        params['daily'] = 'temperature_2m_mean'\n",
    "\n",
    "    response = requests.get(base_url, params=params)\n",
    "    if response.status_code != 200:\n",
    "        raise Exception(f'Ошибка {response.status_code}: {response.text}')\n",
    "    \n",
    "    data = response.json()\n",
    "    \n",
    "    if hourly:\n",
    "        time_list = data['hourly']['time']\n",
    "        temp_list = data['hourly']['temperature_2m']\n",
    "    else:\n",
    "        time_list = data['daily']['time']\n",
    "        temp_list = data['daily']['temperature_2m_mean']\n",
    "    \n",
    "    df = pd.DataFrame({\n",
    "        'datetime': pd.to_datetime(time_list),\n",
    "        'temperature': temp_list\n",
    "    })\n",
    "    df['city'] = city\n",
    "    return df\n",
    "\n",
    "# Сбор всех данных\n",
    "hourly_data = []\n",
    "daily_data = []\n",
    "\n",
    "for city, (lat, lon) in city_coords.items():\n",
    "    print(f\"[⏱] Загружаем почасовые данные для: {city}\")\n",
    "    df_hourly = get_weather_open_meteo(city, lat, lon, hourly=True)\n",
    "    hourly_data.append(df_hourly)\n",
    "    \n",
    "    print(f\"[📆] Загружаем ежедневные данные для: {city}\")\n",
    "    df_daily = get_weather_open_meteo(city, lat, lon, hourly=False)\n",
    "    daily_data.append(df_daily)\n",
    "\n",
    "# Объединяем все города\n",
    "df_hourly_all = pd.concat(hourly_data).reset_index(drop=True)\n",
    "df_daily_all = pd.concat(daily_data).reset_index(drop=True)\n",
    "\n",
    "# Агрегация по месяцам\n",
    "df_monthly_all = (\n",
    "    df_daily_all.copy()\n",
    "    .assign(month=lambda df: df['datetime'].dt.to_period('M'))\n",
    "    .groupby(['city', 'month'])\n",
    "    .agg(temperature=('temperature', 'mean'))\n",
    "    .reset_index()\n",
    ")\n",
    "df_monthly_all['month'] = df_monthly_all['month'].astype(str)\n",
    "\n",
    "# Сохраняем все 3 таблицы\n",
    "df_hourly_all.to_csv(\"weather_2023_hourly.csv\", index=False)\n",
    "df_daily_all.to_csv(\"weather_2023_daily.csv\", index=False)\n",
    "df_monthly_all.to_csv(\"weather_2023_monthly.csv\", index=False)\n",
    "\n",
    "# Функция для присвоения сезона по месяцу\n",
    "def get_season(month: int) -> str:\n",
    "    if month in [12, 1, 2]:\n",
    "        return 'winter'\n",
    "    elif month in [3, 4, 5]:\n",
    "        return 'spring'\n",
    "    elif month in [6, 7, 8]:\n",
    "        return 'summer'\n",
    "    else:\n",
    "        return 'autumn'\n",
    "\n",
    "# Почасовые данные\n",
    "df_hourly_all['month'] = df_hourly_all['datetime'].dt.month\n",
    "df_hourly_all['season'] = df_hourly_all['month'].apply(get_season)\n",
    "\n",
    "# Ежедневные данные\n",
    "df_daily_all['month'] = df_daily_all['datetime'].dt.month\n",
    "df_daily_all['season'] = df_daily_all['month'].apply(get_season)\n",
    "\n",
    "# Ежемесячные данные\n",
    "df_monthly_all['month_num'] = pd.to_datetime(df_monthly_all['month']).dt.month\n",
    "df_monthly_all['season'] = df_monthly_all['month_num'].apply(get_season)\n",
    "\n",
    "# # Проверка\n",
    "# print(\"\\n📌 Почасовые данные с сезонами:\")\n",
    "# print(df_hourly_all[['datetime', 'temperature', 'city', 'season']].head())\n",
    "\n",
    "# print(\"\\n📌 Ежедневные данные с сезонами:\")\n",
    "# print(df_daily_all[['datetime', 'temperature', 'city', 'season']].head())\n",
    "\n",
    "# print(\"\\n📌 Ежемесячные данные с сезонами:\")\n",
    "# print(df_monthly_all[['month', 'temperature', 'city', 'season']].head())"
   ]
  },
  {
   "cell_type": "markdown",
   "metadata": {},
   "source": [
    "# 2. Расчёт корреляций (Кендалл + Пирсон) + построение сетевых моделей"
   ]
  },
  {
   "cell_type": "code",
   "execution_count": 2,
   "metadata": {},
   "outputs": [],
   "source": [
    "import networkx as nx\n",
    "\n",
    "def build_correlation_graphs(df: pd.DataFrame, time_col: str, value_col: str = 'temperature') -> dict:\n",
    "    results = {}\n",
    "    for season in ['winter', 'spring', 'summer', 'autumn']:\n",
    "        df_season = df[df['season'] == season]\n",
    "\n",
    "        # pivot: time x city\n",
    "        pivot_df = df_season.pivot(index=time_col, columns='city', values=value_col)\n",
    "\n",
    "        # drop rows with missing values\n",
    "        pivot_df = pivot_df.dropna()\n",
    "\n",
    "        for method in ['pearson', 'kendall']:\n",
    "            corr_matrix = pivot_df.corr(method=method)\n",
    "\n",
    "            # Построим граф\n",
    "            G = nx.Graph()\n",
    "            for city in corr_matrix.columns:\n",
    "                G.add_node(city)\n",
    "\n",
    "            for i in corr_matrix.columns:\n",
    "                for j in corr_matrix.columns:\n",
    "                    if i != j:\n",
    "                        weight = corr_matrix.loc[i, j]\n",
    "                        G.add_edge(i, j, weight=weight)\n",
    "\n",
    "            results[(season, method)] = G\n",
    "\n",
    "    return results"
   ]
  },
  {
   "cell_type": "code",
   "execution_count": 6,
   "metadata": {},
   "outputs": [],
   "source": [
    "# Пример: построить графы для почасовых данных\n",
    "hourly_graphs = build_correlation_graphs(\n",
    "    df=df_hourly_all,\n",
    "    time_col='datetime'\n",
    ")\n",
    "# Создание матриц корреляции для разных промежутков измерения\n",
    "# То же для дневных и месячных\n",
    "daily_graphs = build_correlation_graphs(df_daily_all, time_col='datetime')\n",
    "monthly_graphs = build_correlation_graphs(df_monthly_all.rename(columns={'month': 'datetime'}), time_col='datetime')"
   ]
  },
  {
   "cell_type": "code",
   "execution_count": null,
   "metadata": {},
   "outputs": [],
   "source": [
    "import matplotlib.pyplot as plt\n",
    "\n",
    "def draw_graph_for_season(graphs_dict, season='spring', method='pearson', threshold=None):\n",
    "    G = graphs_dict.get((season, method))\n",
    "    if not G or len(G.nodes) == 0:\n",
    "        print(f\"⚠️ Нет данных для {season.title()} ({method})\")\n",
    "        return\n",
    "\n",
    "    pos = nx.spring_layout(G, seed=42)\n",
    "\n",
    "    # Применим фильтр по порогу корреляции\n",
    "    edges = [(u, v) for u, v, d in G.edges(data=True)\n",
    "             if threshold is None or abs(d['weight']) >= threshold]\n",
    "    if not edges:\n",
    "        print(f\"⚠️ Нет рёбер выше порога {threshold} для {season.title()}\")\n",
    "        return\n",
    "\n",
    "    weights = [G[u][v]['weight'] for u, v in edges]\n",
    "    abs_weights = [abs(w) for w in weights]\n",
    "\n",
    "    # Цвета рёбер: от красного (-1) до зелёного (+1)\n",
    "    edge_colors = [plt.cm.RdYlGn((w + 1) / 2) for w in weights]\n",
    "    edge_labels = {(u, v): f\"{G[u][v]['weight']:.2f}\" for u, v in edges}\n",
    "\n",
    "    plt.figure(figsize=(8, 6))\n",
    "    nx.draw_networkx_nodes(G, pos, node_color='lightblue', node_size=1500)\n",
    "    nx.draw_networkx_labels(G, pos, font_size=11)\n",
    "    nx.draw_networkx_edges(G, pos, edgelist=edges, edge_color=edge_colors,\n",
    "                           width=[2 + 4 * w for w in abs_weights])\n",
    "    nx.draw_networkx_edge_labels(G, pos, edge_labels=edge_labels, font_size=9)\n",
    "\n",
    "    plt.title(f\"{season.title()} — {method.title()} Correlation\", fontsize=14)\n",
    "    plt.axis('off')\n",
    "    plt.tight_layout()\n",
    "    plt.show()\n",
    "\n",
    "    # Пример: сравнение по сезонам для дневных наблюдений\n",
    "draw_graph_for_season(hourly_graphs, season = 'winter', method='pearson')\n",
    "draw_graph_for_season(hourly_graphs, season = 'winter', method='kendall')"
   ]
  },
  {
   "cell_type": "markdown",
   "metadata": {},
   "source": [
    "# 3. Построение графов с порогом корреляции + клики и независимые множества"
   ]
  },
  {
   "cell_type": "code",
   "execution_count": 13,
   "metadata": {},
   "outputs": [],
   "source": [
    "#функция отсечения графа \n",
    "\n",
    "from networkx.algorithms.clique import find_cliques\n",
    "from networkx.algorithms.approximation import maximum_independent_set\n",
    "\n",
    "def threshold_graph(G: nx.Graph, threshold: float) -> nx.Graph:\n",
    "    H = nx.Graph()\n",
    "    H.add_nodes_from(G.nodes)\n",
    "    for u, v, data in G.edges(data=True):\n",
    "        if abs(data['weight']) >= threshold:\n",
    "            H.add_edge(u, v, weight=data['weight'])\n",
    "    return H\n",
    "\n",
    "# функция которая находит клики + независимые множества\n",
    "def analyze_graph(G: nx.Graph, threshold: float):\n",
    "    G_thresh = threshold_graph(G, threshold)\n",
    "\n",
    "    cliques = list(find_cliques(G_thresh))  # Все клики (не обязательно максимальные)\n",
    "    max_clique_size = max(len(c) for c in cliques) if cliques else 0\n",
    "    largest_cliques = [c for c in cliques if len(c) == max_clique_size]\n",
    "\n",
    "    independent_set = maximum_independent_set(G_thresh)\n",
    "\n",
    "    return {\n",
    "        'thresholded_graph': G_thresh,\n",
    "        'cliques': cliques,\n",
    "        'largest_cliques': largest_cliques,\n",
    "        'independent_set': independent_set\n",
    "    }"
   ]
  },
  {
   "cell_type": "code",
   "execution_count": null,
   "metadata": {},
   "outputs": [],
   "source": [
    "# это пример использования функции выделения клик + независимых множеств\n",
    "\n",
    "thresholds = [0.2, 0.4, 0.7]\n",
    "\n",
    "for season in ['winter', 'spring', 'summer', 'autumn']:\n",
    "    for method in ['pearson', 'kendall']:\n",
    "        G = hourly_graphs.get((season, method))\n",
    "        if G is None:\n",
    "            continue\n",
    "        print(f\"\\n--- {season.title()} | {method.title()} ---\")\n",
    "        for t in thresholds:\n",
    "            result = analyze_graph(G, t)\n",
    "            print(f\"\\nПорог: {t}\")\n",
    "            print(f\"🔹 Кол-во вершин в кликах: {len(result['cliques'])}\")\n",
    "            print(f\"🔹 Наибольшие клики: {result['largest_cliques']}\")\n",
    "            print(f\"🔹 Независимое множество: {result['independent_set']}\")"
   ]
  },
  {
   "cell_type": "code",
   "execution_count": null,
   "metadata": {},
   "outputs": [],
   "source": [
    "#функция визуализации отсеченного графа\n",
    "def draw_thresholded_graph(G: nx.Graph, threshold=0.7, title=''):\n",
    "    G_thresh = threshold_graph(G, threshold)\n",
    "    \n",
    "    if G_thresh.number_of_edges() == 0:\n",
    "        print(f\"⚠️ Нет рёбер выше порога {threshold}\")\n",
    "        return\n",
    "\n",
    "    pos = nx.spring_layout(G_thresh, seed=42)\n",
    "\n",
    "    edges = list(G_thresh.edges(data=True))\n",
    "    weights = [d['weight'] for _, _, d in edges]\n",
    "    abs_weights = [abs(w) for w in weights]\n",
    "    edge_colors = [plt.cm.RdYlGn((w + 1) / 2) for w in weights]\n",
    "    edge_labels = {(u, v): f\"{w:.2f}\" for u, v, d in edges if (w := d['weight'])}\n",
    "\n",
    "    plt.figure(figsize=(8, 6))\n",
    "    nx.draw_networkx_nodes(G_thresh, pos, node_color='lightblue', node_size=1500)\n",
    "    nx.draw_networkx_labels(G_thresh, pos, font_size=11)\n",
    "    nx.draw_networkx_edges(G_thresh, pos, edgelist=[(u, v) for u, v, _ in edges],\n",
    "                           edge_color=edge_colors,\n",
    "                           width=[2 + 4 * w for w in abs_weights])\n",
    "    nx.draw_networkx_edge_labels(G_thresh, pos, edge_labels=edge_labels, font_size=9)\n",
    "    \n",
    "    plt.title(title or f\"Thresholded Graph (≥ {threshold})\", fontsize=14)\n",
    "    plt.axis('off')\n",
    "    plt.tight_layout()\n",
    "    plt.show()"
   ]
  },
  {
   "cell_type": "code",
   "execution_count": null,
   "metadata": {},
   "outputs": [
    {
     "data": {
      "image/png": "[encoded data removed]",
      "text/plain": [
       "<Figure size 800x600 with 1 Axes>"
      ]
     },
     "metadata": {},
     "output_type": "display_data"
    }
   ],
   "source": [
    "#визуализация зимнего графа пирсона из почасовых данных при пороге 0.7:\n",
    "G = hourly_graphs[('winter', 'pearson')]\n",
    "draw_thresholded_graph(G, threshold=0.7, title='Winter (Pearson), Threshold ≥ 0.7')\n"
   ]
  },
  {
   "cell_type": "markdown",
   "metadata": {},
   "source": [
    "# 4. Анализ гипотезы"
   ]
  },
  {
   "cell_type": "code",
   "execution_count": null,
   "metadata": {},
   "outputs": [],
   "source": [
    "#вызвать функцию с заданными значениями тресхолда + спросить, как вывести клики и независимые мно-ва. отправить ей блоки кода. "
   ]
  },
  {
   "cell_type": "markdown",
   "metadata": {},
   "source": [
    "# 6. Сравнение сетевых структур"
   ]
  },
  {
   "cell_type": "code",
   "execution_count": null,
   "metadata": {},
   "outputs": [],
   "source": []
  },
  {
   "cell_type": "markdown",
   "metadata": {},
   "source": [
    "# 7. Выводы и заключение"
   ]
  },
  {
   "cell_type": "code",
   "execution_count": null,
   "metadata": {},
   "outputs": [],
   "source": []
  }
 ],
 "metadata": {
  "kernelspec": {
   "display_name": "Python 3",
   "language": "python",
   "name": "python3"
  },
  "language_info": {
   "codemirror_mode": {
    "name": "ipython",
    "version": 3
   },
   "file_extension": ".py",
   "mimetype": "text/x-python",
   "name": "python",
   "nbconvert_exporter": "python",
   "pygments_lexer": "ipython3",
   "version": "3.13.2"
  },
  "orig_nbformat": 4
 },
 "nbformat": 4,
 "nbformat_minor": 2
}
