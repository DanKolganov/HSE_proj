{
 "cells": [
  {
   "cell_type": "markdown",
   "metadata": {},
   "source": [
    "## НАШ ПРОЕКТИК"
   ]
  },
  {
   "cell_type": "markdown",
   "metadata": {},
   "source": [
    "# 1. Получение данных\n"
   ]
  },
  {
   "cell_type": "code",
   "execution_count": 7,
   "metadata": {},
   "outputs": [
    {
     "name": "stdout",
     "output_type": "stream",
     "text": [
      "Ошибка при получении координат для Moscow: 401 Client Error: Unauthorized for url: http://api.openweathermap.org/geo/1.0/direct?q=Moscow&limit=1&appid=93a2e224b502c359fd18021ff02228f0\n",
      "Произошла ошибка: Не удалось получить координаты Москвы\n"
     ]
    }
   ],
   "source": [
    "import requests\n",
    "import pandas as pd\n",
    "from datetime import datetime, timedelta\n",
    "import time\n",
    "\n",
    "# Конфигурация\n",
    "API_KEY = \"93a2e224b502c359fd18021ff02228f0\"  # Замените на реальный ключ\n",
    "CITIES = [\"Moscow\", \"Saint Petersburg\", \"Nizhny Novgorod\", \"Kazan\", \"Ufa\", \"Novosibirsk\", \"Vladivostok\"]\n",
    "\n",
    "def get_city_coordinates(city, api_key):\n",
    "    \"\"\"Получаем координаты города с обработкой ошибок\"\"\"\n",
    "    try:\n",
    "        geo_url = f\"http://api.openweathermap.org/geo/1.0/direct?q={city}&limit=1&appid={api_key}\"\n",
    "        response = requests.get(geo_url)\n",
    "        response.raise_for_status()  # Проверка на ошибки HTTP\n",
    "        data = response.json()\n",
    "        if not data:\n",
    "            raise ValueError(f\"Город {city} не найден\")\n",
    "        return data[0][\"lat\"], data[0][\"lon\"]\n",
    "    except Exception as e:\n",
    "        print(f\"Ошибка при получении координат для {city}: {str(e)}\")\n",
    "        return None, None\n",
    "\n",
    "def get_historical_weather(lat, lon, date, api_key):\n",
    "    \"\"\"Получаем исторические данные с обработкой ошибок\"\"\"\n",
    "    try:\n",
    "        url = f\"https://api.openweathermap.org/data/2.5/onecall/timemachine?lat={lat}&lon={lon}&dt={date}&appid={api_key}&units=metric\"\n",
    "        response = requests.get(url)\n",
    "        response.raise_for_status()\n",
    "        return response.json()\n",
    "    except Exception as e:\n",
    "        print(f\"Ошибка при получении данных для {lat},{lon} на {date}: {str(e)}\")\n",
    "        return None\n",
    "\n",
    "# Пример использования с обработкой ошибок\n",
    "try:\n",
    "    # Получаем координаты Москвы\n",
    "    lat, lon = get_city_coordinates(\"Moscow\", API_KEY)\n",
    "    if lat is None or lon is None:\n",
    "        raise ValueError(\"Не удалось получить координаты Москвы\")\n",
    "    \n",
    "    # Дата для запроса (1 января 2023)\n",
    "    target_date = datetime(2023, 1, 1)\n",
    "    date_unix = int(target_date.timestamp())\n",
    "    \n",
    "    # Получаем данные\n",
    "    weather_data = get_historical_weather(lat, lon, date_unix, API_KEY)\n",
    "    \n",
    "    if weather_data and \"hourly\" in weather_data:\n",
    "        print(f\"Температура в Москве 1 января 2023 в 00:00: {weather_data['hourly'][0]['temp']}°C\")\n",
    "    else:\n",
    "        print(\"Не удалось получить данные о погоде\")\n",
    "        \n",
    "except Exception as e:\n",
    "    print(f\"Произошла ошибка: {str(e)}\")"
   ]
  },
  {
   "cell_type": "code",
   "execution_count": null,
   "metadata": {},
   "outputs": [],
   "source": [
    "import requests\n",
    "import pandas as pd\n",
    "from datetime import datetime, timedelta\n",
    "import numpy as np\n",
    "\n",
    "# Конфигурация\n",
    "API_KEY = \"93a2e224b502c359fd18021ff02228f0\"  # Замените на свой ключ OpenWeatherMap\n",
    "CITIES = [\"Moscow\", \"Saint Petersburg\", \"Nizhny Novgorod\", \"Kazan\", \"Ufa\", \"Novosibirsk\", \"Vladivostok\"]\n",
    "YEARS = [2023]\n",
    "MONTHS = range(1, 13)\n",
    "DAYS = range(1, 29)  # Упрощение: берём по 28 дней в месяце\n",
    "\n",
    "def get_city_coordinates(city, api_key):\n",
    "    \"\"\"Получаем координаты города.\"\"\"\n",
    "    geo_url = f\"http://api.openweathermap.org/geo/1.0/direct?q={city}&limit=1&appid={api_key}\"\n",
    "    response = requests.get(geo_url).json()\n",
    "    return response[0][\"lat\"], response[0][\"lon\"]\n",
    "\n",
    "def fetch_historical_weather(city, date, api_key):\n",
    "    \"\"\"Загружаем исторические данные по API.\"\"\"\n",
    "    lat, lon = get_city_coordinates(city, api_key)\n",
    "    url = f\"https://api.openweathermap.org/data/2.5/onecall/timemachine?lat={lat}&lon={lon}&dt={date}&appid={api_key}&units=metric\"\n",
    "    return requests.get(url).json()\n",
    "\n",
    "# Пример: загрузка данных для Москвы 1 января 2023\n",
    "date_unix = int(datetime(2023, 1, 1).timestamp())\n",
    "weather_data = fetch_historical_weather(\"Moscow\", date_unix, API_KEY)\n",
    "print(weather_data[\"hourly\"][0][\"temp\"])  # Первое значение температуры"
   ]
  },
  {
   "cell_type": "markdown",
   "metadata": {},
   "source": [
    "# 2. Предобработка данных "
   ]
  },
  {
   "cell_type": "code",
   "execution_count": null,
   "metadata": {},
   "outputs": [],
   "source": []
  },
  {
   "cell_type": "markdown",
   "metadata": {},
   "source": [
    "# 3. Анализ корреляции"
   ]
  },
  {
   "cell_type": "markdown",
   "metadata": {},
   "source": [
    "3.1 Рассчет корреляций"
   ]
  },
  {
   "cell_type": "code",
   "execution_count": null,
   "metadata": {},
   "outputs": [],
   "source": []
  },
  {
   "cell_type": "markdown",
   "metadata": {},
   "source": [
    "3.2 Анализ корреляций "
   ]
  },
  {
   "cell_type": "code",
   "execution_count": null,
   "metadata": {},
   "outputs": [],
   "source": []
  },
  {
   "cell_type": "markdown",
   "metadata": {},
   "source": [
    "# 4. Построение сетевых моделей "
   ]
  },
  {
   "cell_type": "markdown",
   "metadata": {},
   "source": [
    "4.1. Создание графов"
   ]
  },
  {
   "cell_type": "code",
   "execution_count": null,
   "metadata": {},
   "outputs": [],
   "source": []
  },
  {
   "cell_type": "markdown",
   "metadata": {},
   "source": [
    "4.2. Выделение клик и независимых множеств"
   ]
  },
  {
   "cell_type": "code",
   "execution_count": null,
   "metadata": {},
   "outputs": [],
   "source": []
  },
  {
   "cell_type": "markdown",
   "metadata": {},
   "source": [
    "# 5. Сравнение результатов"
   ]
  },
  {
   "cell_type": "code",
   "execution_count": null,
   "metadata": {},
   "outputs": [],
   "source": []
  }
 ],
 "metadata": {
  "kernelspec": {
   "display_name": "Python 3",
   "language": "python",
   "name": "python3"
  },
  "language_info": {
   "codemirror_mode": {
    "name": "ipython",
    "version": 3
   },
   "file_extension": ".py",
   "mimetype": "text/x-python",
   "name": "python",
   "nbconvert_exporter": "python",
   "pygments_lexer": "ipython3",
   "version": "3.13.2"
  },
  "orig_nbformat": 4
 },
 "nbformat": 4,
 "nbformat_minor": 2
}
