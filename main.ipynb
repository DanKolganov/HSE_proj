{
 "cells": [
  {
   "cell_type": "markdown",
   "metadata": {},
   "source": [
    "## НАШ ПРОЕКТИК"
   ]
  },
  {
   "cell_type": "markdown",
   "metadata": {},
   "source": [
    "# 1. Получение данных\n"
   ]
  },
  {
   "cell_type": "code",
   "execution_count": 15,
   "metadata": {},
   "outputs": [
    {
     "name": "stdout",
     "output_type": "stream",
     "text": [
      "[⏱] Загружаем почасовые данные для: Moscow\n",
      "[📆] Загружаем ежедневные данные для: Moscow\n",
      "[⏱] Загружаем почасовые данные для: Saint_Petersburg\n",
      "[📆] Загружаем ежедневные данные для: Saint_Petersburg\n",
      "[⏱] Загружаем почасовые данные для: Nizhny_Novgorod\n",
      "[📆] Загружаем ежедневные данные для: Nizhny_Novgorod\n",
      "[⏱] Загружаем почасовые данные для: Kazan\n",
      "[📆] Загружаем ежедневные данные для: Kazan\n",
      "[⏱] Загружаем почасовые данные для: Ufa\n",
      "[📆] Загружаем ежедневные данные для: Ufa\n",
      "[⏱] Загружаем почасовые данные для: Novosibirsk\n",
      "[📆] Загружаем ежедневные данные для: Novosibirsk\n",
      "[⏱] Загружаем почасовые данные для: Vladivostok\n",
      "[📆] Загружаем ежедневные данные для: Vladivostok\n",
      "\n",
      "📌 Почасовые данные с сезонами:\n",
      "             datetime  temperature    city  season\n",
      "0 2023-01-01 00:00:00         -0.4  Moscow  winter\n",
      "1 2023-01-01 01:00:00         -0.2  Moscow  winter\n",
      "2 2023-01-01 02:00:00          0.0  Moscow  winter\n",
      "3 2023-01-01 03:00:00          0.3  Moscow  winter\n",
      "4 2023-01-01 04:00:00          0.5  Moscow  winter\n",
      "\n",
      "📌 Ежедневные данные с сезонами:\n",
      "    datetime  temperature    city  season\n",
      "0 2023-01-01          2.3  Moscow  winter\n",
      "1 2023-01-02         -1.2  Moscow  winter\n",
      "2 2023-01-03         -1.7  Moscow  winter\n",
      "3 2023-01-04         -3.3  Moscow  winter\n",
      "4 2023-01-05         -7.3  Moscow  winter\n",
      "\n",
      "📌 Ежемесячные данные с сезонами:\n",
      "     month  temperature   city  season\n",
      "0  2023-01   -12.212903  Kazan  winter\n",
      "1  2023-02    -8.310714  Kazan  winter\n",
      "2  2023-03     0.029032  Kazan  spring\n",
      "3  2023-04     8.076667  Kazan  spring\n",
      "4  2023-05    15.419355  Kazan  spring\n"
     ]
    }
   ],
   "source": [
    "import requests\n",
    "import pandas as pd\n",
    "from datetime import datetime\n",
    "\n",
    "# Геокоординаты для нужных городов\n",
    "city_coords = {\n",
    "    'Moscow': (55.7558, 37.6176),\n",
    "    'Saint_Petersburg': (59.9343, 30.3351),\n",
    "    'Nizhny_Novgorod': (56.2965, 43.9361),\n",
    "    'Kazan': (55.7963, 49.1088),\n",
    "    'Ufa': (54.7388, 55.9721),\n",
    "    'Novosibirsk': (55.0084, 82.9357),\n",
    "    'Vladivostok': (43.1198, 131.8869)\n",
    "}\n",
    "\n",
    "# Функция получения данных из Open-Meteo\n",
    "def get_weather_open_meteo(city: str, lat: float, lon: float,\n",
    "                           start_date='2023-01-01', end_date='2023-12-31',\n",
    "                           hourly=True) -> pd.DataFrame:\n",
    "    base_url = 'https://archive-api.open-meteo.com/v1/archive'\n",
    "    params = {\n",
    "        'latitude': lat,\n",
    "        'longitude': lon,\n",
    "        'start_date': start_date,\n",
    "        'end_date': end_date,\n",
    "        'timezone': 'auto'\n",
    "    }\n",
    "\n",
    "    if hourly:\n",
    "        params['hourly'] = 'temperature_2m'\n",
    "    else:\n",
    "        params['daily'] = 'temperature_2m_mean'\n",
    "\n",
    "    response = requests.get(base_url, params=params)\n",
    "    if response.status_code != 200:\n",
    "        raise Exception(f'Ошибка {response.status_code}: {response.text}')\n",
    "    \n",
    "    data = response.json()\n",
    "    \n",
    "    if hourly:\n",
    "        time_list = data['hourly']['time']\n",
    "        temp_list = data['hourly']['temperature_2m']\n",
    "    else:\n",
    "        time_list = data['daily']['time']\n",
    "        temp_list = data['daily']['temperature_2m_mean']\n",
    "    \n",
    "    df = pd.DataFrame({\n",
    "        'datetime': pd.to_datetime(time_list),\n",
    "        'temperature': temp_list\n",
    "    })\n",
    "    df['city'] = city\n",
    "    return df\n",
    "\n",
    "# Сбор всех данных\n",
    "hourly_data = []\n",
    "daily_data = []\n",
    "\n",
    "for city, (lat, lon) in city_coords.items():\n",
    "    print(f\"[⏱] Загружаем почасовые данные для: {city}\")\n",
    "    df_hourly = get_weather_open_meteo(city, lat, lon, hourly=True)\n",
    "    hourly_data.append(df_hourly)\n",
    "    \n",
    "    print(f\"[📆] Загружаем ежедневные данные для: {city}\")\n",
    "    df_daily = get_weather_open_meteo(city, lat, lon, hourly=False)\n",
    "    daily_data.append(df_daily)\n",
    "\n",
    "# Объединяем все города\n",
    "df_hourly_all = pd.concat(hourly_data).reset_index(drop=True)\n",
    "df_daily_all = pd.concat(daily_data).reset_index(drop=True)\n",
    "\n",
    "# Агрегация по месяцам\n",
    "df_monthly_all = (\n",
    "    df_daily_all.copy()\n",
    "    .assign(month=lambda df: df['datetime'].dt.to_period('M'))\n",
    "    .groupby(['city', 'month'])\n",
    "    .agg(temperature=('temperature', 'mean'))\n",
    "    .reset_index()\n",
    ")\n",
    "df_monthly_all['month'] = df_monthly_all['month'].astype(str)\n",
    "\n",
    "# Сохраняем все 3 таблицы\n",
    "df_hourly_all.to_csv(\"weather_2023_hourly.csv\", index=False)\n",
    "df_daily_all.to_csv(\"weather_2023_daily.csv\", index=False)\n",
    "df_monthly_all.to_csv(\"weather_2023_monthly.csv\", index=False)\n",
    "\n",
    "# Функция для присвоения сезона по месяцу\n",
    "def get_season(month: int) -> str:\n",
    "    if month in [12, 1, 2]:\n",
    "        return 'winter'\n",
    "    elif month in [3, 4, 5]:\n",
    "        return 'spring'\n",
    "    elif month in [6, 7, 8]:\n",
    "        return 'summer'\n",
    "    else:\n",
    "        return 'autumn'\n",
    "\n",
    "# Почасовые данные\n",
    "df_hourly_all['month'] = df_hourly_all['datetime'].dt.month\n",
    "df_hourly_all['season'] = df_hourly_all['month'].apply(get_season)\n",
    "\n",
    "# Ежедневные данные\n",
    "df_daily_all['month'] = df_daily_all['datetime'].dt.month\n",
    "df_daily_all['season'] = df_daily_all['month'].apply(get_season)\n",
    "\n",
    "# Ежемесячные данные\n",
    "df_monthly_all['month_num'] = pd.to_datetime(df_monthly_all['month']).dt.month\n",
    "df_monthly_all['season'] = df_monthly_all['month_num'].apply(get_season)\n",
    "\n",
    "# Проверка\n",
    "print(\"\\n📌 Почасовые данные с сезонами:\")\n",
    "print(df_hourly_all[['datetime', 'temperature', 'city', 'season']].head())\n",
    "\n",
    "print(\"\\n📌 Ежедневные данные с сезонами:\")\n",
    "print(df_daily_all[['datetime', 'temperature', 'city', 'season']].head())\n",
    "\n",
    "print(\"\\n📌 Ежемесячные данные с сезонами:\")\n",
    "print(df_monthly_all[['month', 'temperature', 'city', 'season']].head())"
   ]
  },
  {
   "cell_type": "markdown",
   "metadata": {},
   "source": [
    "# 2. Предобработка данных "
   ]
  },
  {
   "cell_type": "code",
   "execution_count": null,
   "metadata": {},
   "outputs": [],
   "source": []
  },
  {
   "cell_type": "markdown",
   "metadata": {},
   "source": [
    "# 3. Анализ корреляции"
   ]
  },
  {
   "cell_type": "markdown",
   "metadata": {},
   "source": [
    "3.1 Рассчет корреляций"
   ]
  },
  {
   "cell_type": "code",
   "execution_count": null,
   "metadata": {},
   "outputs": [],
   "source": []
  },
  {
   "cell_type": "markdown",
   "metadata": {},
   "source": [
    "3.2 Анализ корреляций "
   ]
  },
  {
   "cell_type": "code",
   "execution_count": null,
   "metadata": {},
   "outputs": [],
   "source": []
  },
  {
   "cell_type": "markdown",
   "metadata": {},
   "source": [
    "# 4. Построение сетевых моделей "
   ]
  },
  {
   "cell_type": "markdown",
   "metadata": {},
   "source": [
    "4.1. Создание графов"
   ]
  },
  {
   "cell_type": "code",
   "execution_count": null,
   "metadata": {},
   "outputs": [],
   "source": []
  },
  {
   "cell_type": "markdown",
   "metadata": {},
   "source": [
    "4.2. Выделение клик и независимых множеств"
   ]
  },
  {
   "cell_type": "code",
   "execution_count": null,
   "metadata": {},
   "outputs": [],
   "source": []
  },
  {
   "cell_type": "markdown",
   "metadata": {},
   "source": [
    "# 5. Сравнение результатов"
   ]
  },
  {
   "cell_type": "code",
   "execution_count": null,
   "metadata": {},
   "outputs": [],
   "source": []
  }
 ],
 "metadata": {
  "kernelspec": {
   "display_name": "Python 3",
   "language": "python",
   "name": "python3"
  },
  "language_info": {
   "codemirror_mode": {
    "name": "ipython",
    "version": 3
   },
   "file_extension": ".py",
   "mimetype": "text/x-python",
   "name": "python",
   "nbconvert_exporter": "python",
   "pygments_lexer": "ipython3",
   "version": "3.13.2"
  },
  "orig_nbformat": 4
 },
 "nbformat": 4,
 "nbformat_minor": 2
}
